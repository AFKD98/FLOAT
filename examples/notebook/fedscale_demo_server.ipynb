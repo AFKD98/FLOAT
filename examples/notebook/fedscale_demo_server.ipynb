{
 "cells": [
  {
   "cell_type": "markdown",
   "id": "466d23de",
   "metadata": {},
   "source": [
    "# Federated Learning for Image Classification using Fedscale"
   ]
  },
  {
   "cell_type": "markdown",
   "id": "0421621a",
   "metadata": {},
   "source": [
    "## Server Side"
   ]
  },
  {
   "cell_type": "code",
   "execution_count": 6,
   "id": "a1e48395",
   "metadata": {},
   "outputs": [
    {
     "name": "stderr",
     "output_type": "stream",
     "text": [
      "(02-27) 12:24:08 INFO     [aggregator.py:44] Job args Namespace(job_name='demo_job', log_path='./', wandb_token='', ps_ip='127.0.0.1', ps_port='29500', this_rank=1, connection_timeout=60, experiment_mode='simulation', engine='pytorch', num_executors=1, executor_configs='127.0.0.1:[1]', num_participants=4, data_map_file=None, use_cuda=True, cuda_device=None, time_stamp='logs', task='cv', device_avail_file=None, clock_factor=1.1624548736462095, model_zoo='torchcv', data_dir='~/cifar10/', device_conf_file='/tmp/client.cfg', model='shufflenet_v2_x2_0', data_set='cifar10', sample_mode='random', filter_less=32, filter_more=1000000000000000.0, train_uniform=False, conf_path='~/dataset/', overcommitment=1.3, model_size=65536, round_threshold=30, round_penalty=2.0, clip_bound=0.9, blacklist_rounds=-1, blacklist_max_len=0.3, embedding_file='glove.840B.300d.txt', input_shape=[1, 3, 28, 28], save_checkpoint=False, rounds=50, local_steps=20, batch_size=30, test_bsz=128, backend='gloo', learning_rate=0.05, min_learning_rate=5e-05, input_dim=0, output_dim=0, dump_epoch=10000000000.0, decay_factor=0.98, decay_round=10, num_loaders=2, eval_interval=5, sample_seed=233, test_ratio=1.0, loss_decay=0.2, exploration_min=0.3, cut_off_util=0.05, gradient_policy=None, yogi_eta=0.003, yogi_tau=1e-08, yogi_beta=0.9, yogi_beta2=0.99, proxy_mu=0.1, cfg_file='./utils/rcnn/cfgs/res101.yml', test_output_dir='./logs/server', train_size_file='', test_size_file='', data_cache='', backbone='./resnet50.pth', malicious_factor=1000000000000000.0, max_concurrency=10, max_staleness=5, noise_factor=0.1, clip_threshold=3.0, target_delta=0.0001, pacer_delta=5, pacer_step=20, exploration_alpha=0.3, exploration_factor=0.9, exploration_decay=0.98, sample_window=5.0, line_by_line=False, clf_block_size=32, mlm=False, mlm_probability=0.15, overwrite_cache=False, block_size=64, weight_decay=0, adam_epsilon=1e-08, vocab_token_size=10000, vocab_tag_size=500, epsilon=0.9, gamma=0.9, memory_capacity=2000, target_replace_iter=15, n_actions=2, n_states=4, num_classes=35, train_manifest='data/train_manifest.csv', test_manifest='data/test_manifest.csv', sample_rate=16000, labels_path='labels.json', window_size=0.02, window_stride=0.01, window='hamming', hidden_size=256, hidden_layers=7, rnn_type='lstm', finetune=False, speed_volume_perturb=False, spec_augment=False, noise_dir=None, noise_prob=0.4, noise_min=0.0, noise_max=0.5, bidirectional=True, num_class=10)\n",
      "(02-27) 12:24:08 INFO     [aggregator.py:156] Initiating control plane communication ...\n",
      "(02-27) 12:24:08 INFO     [aggregator.py:180] %%%%%%%%%% Opening aggregator sever using port [::]:29500 %%%%%%%%%%\n",
      "(02-27) 12:24:08 INFO     [fllibs.py:97] Initializing the model ...\n",
      "(02-27) 12:24:08 INFO     [aggregator.py:869] Start monitoring events ...\n",
      "(02-27) 12:24:53 INFO     [aggregator.py:298] Received executor 1 information, 1/1\n",
      "(02-27) 12:24:53 INFO     [aggregator.py:264] Loading 4 client traces ...\n",
      "(02-27) 12:24:53 INFO     [aggregator.py:285] Info of all feasible clients {'total_feasible_clients': 4, 'total_num_samples': 50000}\n",
      "(02-27) 12:24:53 INFO     [aggregator.py:517] Wall clock: 0 s, round: 1, Planned participants: 0, Succeed participants: 0, Training loss: 0.0\n",
      "(02-27) 12:24:53 INFO     [client_manager.py:194] Wall clock time: 0, 4 clients online, 0 clients offline\n",
      "(02-27) 12:24:53 INFO     [aggregator.py:531] Selected participants to run: [1, 2, 3, 4]\n",
      "(02-27) 12:24:54 INFO     [aggregator.py:825] Issue EVENT (update_model) to EXECUTOR (1)\n",
      "(02-27) 12:24:55 INFO     [aggregator.py:825] Issue EVENT (model_test) to EXECUTOR (1)\n",
      "(02-27) 12:26:30 INFO     [aggregator.py:490] FL Testing in round: 1, virtual_clock: 0.0, results: {'round': 1, 'clock': 0.0, 'top_1': 0.1, 'top_5': 0.5, 'loss': 2.3026571062546743}\n",
      "(02-27) 12:26:31 INFO     [aggregator.py:825] Issue EVENT (client_train) to EXECUTOR (1)\n",
      "(02-27) 12:27:33 INFO     [aggregator.py:825] Issue EVENT (client_train) to EXECUTOR (1)\n",
      "(02-27) 12:28:36 INFO     [aggregator.py:825] Issue EVENT (client_train) to EXECUTOR (1)\n",
      "(02-27) 12:29:38 INFO     [aggregator.py:825] Issue EVENT (client_train) to EXECUTOR (1)\n"
     ]
    },
    {
     "ename": "KeyboardInterrupt",
     "evalue": "",
     "output_type": "error",
     "traceback": [
      "\u001b[0;31m---------------------------------------------------------------------------\u001b[0m",
      "\u001b[0;31mKeyboardInterrupt\u001b[0m                         Traceback (most recent call last)",
      "Cell \u001b[0;32mIn[6], line 9\u001b[0m\n\u001b[1;32m      7\u001b[0m \u001b[38;5;66;03m### On CPU\u001b[39;00m\n\u001b[1;32m      8\u001b[0m parser\u001b[38;5;241m.\u001b[39margs\u001b[38;5;241m.\u001b[39muse_cuda \u001b[38;5;241m=\u001b[39m \u001b[38;5;124m\"\u001b[39m\u001b[38;5;124mFalse\u001b[39m\u001b[38;5;124m\"\u001b[39m\n\u001b[0;32m----> 9\u001b[0m \u001b[43mDemo_Aggregator\u001b[49m\u001b[38;5;241;43m.\u001b[39;49m\u001b[43mrun\u001b[49m\u001b[43m(\u001b[49m\u001b[43m)\u001b[49m\n",
      "File \u001b[0;32m~/Documents/Research/code/FedScale/fedscale/cloud/aggregation/aggregator.py:390\u001b[0m, in \u001b[0;36mAggregator.run\u001b[0;34m(self)\u001b[0m\n\u001b[1;32m    386\u001b[0m \u001b[38;5;28mself\u001b[39m\u001b[38;5;241m.\u001b[39minit_model()\n\u001b[1;32m    387\u001b[0m \u001b[38;5;28mself\u001b[39m\u001b[38;5;241m.\u001b[39mmodel_update_size \u001b[38;5;241m=\u001b[39m sys\u001b[38;5;241m.\u001b[39mgetsizeof(\n\u001b[1;32m    388\u001b[0m     pickle\u001b[38;5;241m.\u001b[39mdumps(\u001b[38;5;28mself\u001b[39m\u001b[38;5;241m.\u001b[39mmodel_wrapper)) \u001b[38;5;241m/\u001b[39m \u001b[38;5;241m1024.0\u001b[39m \u001b[38;5;241m*\u001b[39m \u001b[38;5;241m8.\u001b[39m  \u001b[38;5;66;03m# kbits\u001b[39;00m\n\u001b[0;32m--> 390\u001b[0m \u001b[38;5;28;43mself\u001b[39;49m\u001b[38;5;241;43m.\u001b[39;49m\u001b[43mevent_monitor\u001b[49m\u001b[43m(\u001b[49m\u001b[43m)\u001b[49m\n\u001b[1;32m    391\u001b[0m \u001b[38;5;28mself\u001b[39m\u001b[38;5;241m.\u001b[39mstop()\n",
      "File \u001b[0;32m~/Documents/Research/code/FedScale/fedscale/cloud/aggregation/aggregator.py:906\u001b[0m, in \u001b[0;36mAggregator.event_monitor\u001b[0;34m(self)\u001b[0m\n\u001b[1;32m    902\u001b[0m         logging\u001b[38;5;241m.\u001b[39merror(\u001b[38;5;124mf\u001b[39m\u001b[38;5;124m\"\u001b[39m\u001b[38;5;124mEvent \u001b[39m\u001b[38;5;132;01m{\u001b[39;00mcurrent_event\u001b[38;5;132;01m}\u001b[39;00m\u001b[38;5;124m is not defined\u001b[39m\u001b[38;5;124m\"\u001b[39m)\n\u001b[1;32m    904\u001b[0m \u001b[38;5;28;01melse\u001b[39;00m:\n\u001b[1;32m    905\u001b[0m     \u001b[38;5;66;03m# execute every 100 ms\u001b[39;00m\n\u001b[0;32m--> 906\u001b[0m     \u001b[43mtime\u001b[49m\u001b[38;5;241;43m.\u001b[39;49m\u001b[43msleep\u001b[49m\u001b[43m(\u001b[49m\u001b[38;5;241;43m0.1\u001b[39;49m\u001b[43m)\u001b[49m\n",
      "\u001b[0;31mKeyboardInterrupt\u001b[0m: "
     ]
    }
   ],
   "source": [
    "import sys, os\n",
    "\n",
    "import fedscale.cloud.config_parser as parser\n",
    "from fedscale.cloud.execution.torch_client import TorchClient\n",
    "from fedscale.cloud.aggregation.aggregator import Aggregator\n",
    "Demo_Aggregator = Aggregator(parser.args)\n",
    "### On CPU\n",
    "parser.args.use_cuda = \"False\"\n",
    "Demo_Aggregator.run()"
   ]
  },
  {
   "cell_type": "code",
   "execution_count": null,
   "id": "c86247da",
   "metadata": {},
   "outputs": [
    {
     "name": "stdout",
     "output_type": "stream",
     "text": [
      "\n",
      "NOTE: Using experimental fast data loading logic. To disable, pass\n",
      "    \"--load_fast=false\" and report issues on GitHub. More details:\n",
      "    https://github.com/tensorflow/tensorboard/issues/4784\n",
      "\n",
      "TensorBoard 2.11.2 at http://localhost:6007/ (Press CTRL+C to quit)\n"
     ]
    }
   ],
   "source": [
    "!tensorboard --logdir=./logs/demo_job --port=6007 --bind_all"
   ]
  },
  {
   "cell_type": "code",
   "execution_count": null,
   "id": "f2a40035",
   "metadata": {},
   "outputs": [],
   "source": []
  }
 ],
 "metadata": {
  "kernelspec": {
   "display_name": "Python 3 (ipykernel)",
   "language": "python",
   "name": "python3"
  },
  "language_info": {
   "codemirror_mode": {
    "name": "ipython",
    "version": 3
   },
   "file_extension": ".py",
   "mimetype": "text/x-python",
   "name": "python",
   "nbconvert_exporter": "python",
   "pygments_lexer": "ipython3",
   "version": "3.10.9"
  },
  "vscode": {
   "interpreter": {
    "hash": "c61f092c149070809c0e629644d57c0873f394886eddd38a7b619aa7d2ef8d75"
   }
  }
 },
 "nbformat": 4,
 "nbformat_minor": 5
}
